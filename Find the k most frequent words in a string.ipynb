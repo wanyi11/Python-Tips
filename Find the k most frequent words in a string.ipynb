{
 "cells": [
  {
   "cell_type": "markdown",
   "metadata": {},
   "source": [
    "In order to do this, use a high performance data type module, which is collections. This module got some specialized container datatypes and we will use counter class from this module."
   ]
  },
  {
   "cell_type": "code",
   "execution_count": 1,
   "metadata": {},
   "outputs": [],
   "source": [
    "#input the string\n",
    "t = 'Science Citation Index Expanded (SciSearch), Journal Citation Reports/Science Edition, SCOPUS, INSPEC, Google Scholar, ACM, ACM Digital Library, Computer Abstracts International Database, Current Contents/Engineering, Computing and Technology, DBLP, EBSCO Academic Search, EBSCO Applied Science & Technology Source, EBSCO Computer Science Index, EBSCO Computers & Applied Sciences Complete, EBSCO Discovery Service, EBSCO Engineering Collection: India , EBSCO Engineering Source, EBSCO Polytechnic Studies Collection: India, EBSCO STM Source, EBSCO TOC Premier, EI Compendex, Gale, Gale Academic OneFile, Gale InfoTrac, OCLC WorldCat Discovery Service, ProQuest Advanced Technologies & Aerospace Database, ProQuest Central, ProQuest Computer and Information Systems Abstracts, ProQuest Computing Database, ProQuest Materials Science & Engineering Database, ProQuest Pharma Collection, ProQuest Research Library, ProQuest SciTech Premium Collection, ProQues'"
   ]
  },
  {
   "cell_type": "code",
   "execution_count": 2,
   "metadata": {},
   "outputs": [
    {
     "data": {
      "text/plain": [
       "['Science',\n",
       " 'Citation',\n",
       " 'Index',\n",
       " 'Expanded',\n",
       " '(SciSearch),',\n",
       " 'Journal',\n",
       " 'Citation',\n",
       " 'Reports/Science',\n",
       " 'Edition,',\n",
       " 'SCOPUS,',\n",
       " 'INSPEC,',\n",
       " 'Google',\n",
       " 'Scholar,',\n",
       " 'ACM,',\n",
       " 'ACM',\n",
       " 'Digital',\n",
       " 'Library,',\n",
       " 'Computer',\n",
       " 'Abstracts',\n",
       " 'International',\n",
       " 'Database,',\n",
       " 'Current',\n",
       " 'Contents/Engineering,',\n",
       " 'Computing',\n",
       " 'and',\n",
       " 'Technology,',\n",
       " 'DBLP,',\n",
       " 'EBSCO',\n",
       " 'Academic',\n",
       " 'Search,',\n",
       " 'EBSCO',\n",
       " 'Applied',\n",
       " 'Science',\n",
       " '&',\n",
       " 'Technology',\n",
       " 'Source,',\n",
       " 'EBSCO',\n",
       " 'Computer',\n",
       " 'Science',\n",
       " 'Index,',\n",
       " 'EBSCO',\n",
       " 'Computers',\n",
       " '&',\n",
       " 'Applied',\n",
       " 'Sciences',\n",
       " 'Complete,',\n",
       " 'EBSCO',\n",
       " 'Discovery',\n",
       " 'Service,',\n",
       " 'EBSCO',\n",
       " 'Engineering',\n",
       " 'Collection:',\n",
       " 'India',\n",
       " ',',\n",
       " 'EBSCO',\n",
       " 'Engineering',\n",
       " 'Source,',\n",
       " 'EBSCO',\n",
       " 'Polytechnic',\n",
       " 'Studies',\n",
       " 'Collection:',\n",
       " 'India,',\n",
       " 'EBSCO',\n",
       " 'STM',\n",
       " 'Source,',\n",
       " 'EBSCO',\n",
       " 'TOC',\n",
       " 'Premier,',\n",
       " 'EI',\n",
       " 'Compendex,',\n",
       " 'Gale,',\n",
       " 'Gale',\n",
       " 'Academic',\n",
       " 'OneFile,',\n",
       " 'Gale',\n",
       " 'InfoTrac,',\n",
       " 'OCLC',\n",
       " 'WorldCat',\n",
       " 'Discovery',\n",
       " 'Service,',\n",
       " 'ProQuest',\n",
       " 'Advanced',\n",
       " 'Technologies',\n",
       " '&',\n",
       " 'Aerospace',\n",
       " 'Database,',\n",
       " 'ProQuest',\n",
       " 'Central,',\n",
       " 'ProQuest',\n",
       " 'Computer',\n",
       " 'and',\n",
       " 'Information',\n",
       " 'Systems',\n",
       " 'Abstracts,',\n",
       " 'ProQuest',\n",
       " 'Computing',\n",
       " 'Database,',\n",
       " 'ProQuest',\n",
       " 'Materials',\n",
       " 'Science',\n",
       " '&',\n",
       " 'Engineering',\n",
       " 'Database,',\n",
       " 'ProQuest',\n",
       " 'Pharma',\n",
       " 'Collection,',\n",
       " 'ProQuest',\n",
       " 'Research',\n",
       " 'Library,',\n",
       " 'ProQuest',\n",
       " 'SciTech',\n",
       " 'Premium',\n",
       " 'Collection,',\n",
       " 'ProQues']"
      ]
     },
     "execution_count": 2,
     "metadata": {},
     "output_type": "execute_result"
    }
   ],
   "source": [
    "#split the string into words in list\n",
    "t1 = t.split()\n",
    "t1"
   ]
  },
  {
   "cell_type": "code",
   "execution_count": 4,
   "metadata": {},
   "outputs": [
    {
     "data": {
      "text/plain": [
       "Counter({'Science': 4,\n",
       "         'Citation': 2,\n",
       "         'Index': 1,\n",
       "         'Expanded': 1,\n",
       "         '(SciSearch),': 1,\n",
       "         'Journal': 1,\n",
       "         'Reports/Science': 1,\n",
       "         'Edition,': 1,\n",
       "         'SCOPUS,': 1,\n",
       "         'INSPEC,': 1,\n",
       "         'Google': 1,\n",
       "         'Scholar,': 1,\n",
       "         'ACM,': 1,\n",
       "         'ACM': 1,\n",
       "         'Digital': 1,\n",
       "         'Library,': 2,\n",
       "         'Computer': 3,\n",
       "         'Abstracts': 1,\n",
       "         'International': 1,\n",
       "         'Database,': 4,\n",
       "         'Current': 1,\n",
       "         'Contents/Engineering,': 1,\n",
       "         'Computing': 2,\n",
       "         'and': 2,\n",
       "         'Technology,': 1,\n",
       "         'DBLP,': 1,\n",
       "         'EBSCO': 10,\n",
       "         'Academic': 2,\n",
       "         'Search,': 1,\n",
       "         'Applied': 2,\n",
       "         '&': 4,\n",
       "         'Technology': 1,\n",
       "         'Source,': 3,\n",
       "         'Index,': 1,\n",
       "         'Computers': 1,\n",
       "         'Sciences': 1,\n",
       "         'Complete,': 1,\n",
       "         'Discovery': 2,\n",
       "         'Service,': 2,\n",
       "         'Engineering': 3,\n",
       "         'Collection:': 2,\n",
       "         'India': 1,\n",
       "         ',': 1,\n",
       "         'Polytechnic': 1,\n",
       "         'Studies': 1,\n",
       "         'India,': 1,\n",
       "         'STM': 1,\n",
       "         'TOC': 1,\n",
       "         'Premier,': 1,\n",
       "         'EI': 1,\n",
       "         'Compendex,': 1,\n",
       "         'Gale,': 1,\n",
       "         'Gale': 2,\n",
       "         'OneFile,': 1,\n",
       "         'InfoTrac,': 1,\n",
       "         'OCLC': 1,\n",
       "         'WorldCat': 1,\n",
       "         'ProQuest': 8,\n",
       "         'Advanced': 1,\n",
       "         'Technologies': 1,\n",
       "         'Aerospace': 1,\n",
       "         'Central,': 1,\n",
       "         'Information': 1,\n",
       "         'Systems': 1,\n",
       "         'Abstracts,': 1,\n",
       "         'Materials': 1,\n",
       "         'Pharma': 1,\n",
       "         'Collection,': 2,\n",
       "         'Research': 1,\n",
       "         'SciTech': 1,\n",
       "         'Premium': 1,\n",
       "         'ProQues': 1})"
      ]
     },
     "execution_count": 4,
     "metadata": {},
     "output_type": "execute_result"
    }
   ],
   "source": [
    "#use Counter(from collections package) to get the frequency of different words\n",
    "from collections import Counter\n",
    "t2 = Counter(t1)\n",
    "t2"
   ]
  },
  {
   "cell_type": "code",
   "execution_count": 5,
   "metadata": {},
   "outputs": [
    {
     "data": {
      "text/plain": [
       "[('EBSCO', 10), ('ProQuest', 8), ('Science', 4), ('Database,', 4), ('&', 4)]"
      ]
     },
     "execution_count": 5,
     "metadata": {},
     "output_type": "execute_result"
    }
   ],
   "source": [
    "#Get the top 5 most frequent words in the string\n",
    "t2.most_common(5)"
   ]
  },
  {
   "cell_type": "code",
   "execution_count": null,
   "metadata": {},
   "outputs": [],
   "source": []
  }
 ],
 "metadata": {
  "kernelspec": {
   "display_name": "Python 3",
   "language": "python",
   "name": "python3"
  },
  "language_info": {
   "codemirror_mode": {
    "name": "ipython",
    "version": 3
   },
   "file_extension": ".py",
   "mimetype": "text/x-python",
   "name": "python",
   "nbconvert_exporter": "python",
   "pygments_lexer": "ipython3",
   "version": "3.7.1"
  }
 },
 "nbformat": 4,
 "nbformat_minor": 2
}
