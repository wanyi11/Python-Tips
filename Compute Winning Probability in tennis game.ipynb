{
 "cells": [
  {
   "cell_type": "code",
   "execution_count": 9,
   "metadata": {},
   "outputs": [],
   "source": [
    "#create an empty dict\n",
    "binom = {}\n",
    "\n",
    "#n: number of points to win the game\n",
    "for n in range(0, 1000):\n",
    "    for k in range(0, n + 1):\n",
    "        if k == 0 or k == n:\n",
    "            binom[(n, k)] = 1\n",
    "        else:\n",
    "            binom[(n, k)] = binom[(n - 1, k)] + binom[(n - 1, k - 1)]\n",
    "\n",
    "# Compute Win Probability\n",
    "def prob(n, p):\n",
    "    total = 0\n",
    "    for x in range(0, n):\n",
    "        total += ((1 - p) ** x) * binom[(n - 1 + x, x)]\n",
    "    total *= (p ** n)\n",
    "    return total"
   ]
  },
  {
   "cell_type": "code",
   "execution_count": 10,
   "metadata": {},
   "outputs": [
    {
     "data": {
      "text/plain": [
       "0.7102080000000001"
      ]
     },
     "execution_count": 10,
     "metadata": {},
     "output_type": "execute_result"
    }
   ],
   "source": [
    "#if the winning point is 4 and winning probability for single point is 0.6 then winning probability for the game should be 71%\n",
    "prob(4, 0.6)"
   ]
  },
  {
   "cell_type": "code",
   "execution_count": null,
   "metadata": {},
   "outputs": [],
   "source": []
  }
 ],
 "metadata": {
  "kernelspec": {
   "display_name": "Python 3",
   "language": "python",
   "name": "python3"
  },
  "language_info": {
   "codemirror_mode": {
    "name": "ipython",
    "version": 3
   },
   "file_extension": ".py",
   "mimetype": "text/x-python",
   "name": "python",
   "nbconvert_exporter": "python",
   "pygments_lexer": "ipython3",
   "version": "3.7.1"
  }
 },
 "nbformat": 4,
 "nbformat_minor": 2
}
