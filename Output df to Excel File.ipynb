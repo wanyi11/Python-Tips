{
 "cells": [
  {
   "cell_type": "markdown",
   "metadata": {},
   "source": [
    "## Divide and Export a df into different Excel Files based on a column"
   ]
  },
  {
   "cell_type": "code",
   "execution_count": null,
   "metadata": {},
   "outputs": [],
   "source": [
    "dist = df.dist.unique().tolist()"
   ]
  },
  {
   "cell_type": "code",
   "execution_count": null,
   "metadata": {},
   "outputs": [],
   "source": [
    "for i in dist:\n",
    "    mydf = df.loc[df.dist == i]\n",
    "    name = 'D_%s.xlsx' %i\n",
    "    writer = pd.ExcelWriter(name)\n",
    "    mydf.to_excel(writer, index = False)\n",
    "    writer.save()"
   ]
  },
  {
   "cell_type": "markdown",
   "metadata": {},
   "source": [
    "## Save two dfs into two sheets in one Excel file"
   ]
  },
  {
   "cell_type": "code",
   "execution_count": null,
   "metadata": {},
   "outputs": [],
   "source": [
    "#Create an empty Excel file for saving dfs:\n",
    "writer = pd.ExcelWriter('filename.xlsx', engine='xlsxwriter')\n",
    "\n",
    "# Write each dataframe to a different worksheet.\n",
    "df1.to_excel(writer, sheet_name='Sheet1', index = False)\n",
    "df2.to_excel(writer, sheet_name='Sheet2', index = False)\n",
    "\n",
    "# Close the Pandas Excel writer and output the Excel file.\n",
    "writer.save()"
   ]
  },
  {
   "cell_type": "markdown",
   "metadata": {},
   "source": [
    "## Divide a df and save to different sheets in the same Excel file"
   ]
  },
  {
   "cell_type": "code",
   "execution_count": null,
   "metadata": {},
   "outputs": [],
   "source": [
    "#make a list with unique segments\n",
    "seg = df.Segment.unique().tolist()\n",
    "\n",
    "#create an Excel sheet with name\n",
    "writer = pd.ExcelWriter('Segment Contacts with sales.xlsx')\n",
    "\n",
    "#loop through the list and divide the df based on the segment column\n",
    "for i in seg:\n",
    "    mydf = df.loc[df.Segment == i]\n",
    "    mydf.to_excel(writer, sheet_name = i, index = False)\n",
    "\n",
    "writer.save()"
   ]
  }
 ],
 "metadata": {
  "kernelspec": {
   "display_name": "Python 3",
   "language": "python",
   "name": "python3"
  },
  "language_info": {
   "codemirror_mode": {
    "name": "ipython",
    "version": 3
   },
   "file_extension": ".py",
   "mimetype": "text/x-python",
   "name": "python",
   "nbconvert_exporter": "python",
   "pygments_lexer": "ipython3",
   "version": "3.7.1"
  }
 },
 "nbformat": 4,
 "nbformat_minor": 2
}
