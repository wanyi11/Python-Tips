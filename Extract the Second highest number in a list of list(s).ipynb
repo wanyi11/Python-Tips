{
 "cells": [
  {
   "cell_type": "markdown",
   "metadata": {},
   "source": [
    "## If there is only 1 sublist in nested list a"
   ]
  },
  {
   "cell_type": "code",
   "execution_count": 34,
   "metadata": {},
   "outputs": [],
   "source": [
    "a = [[1, 5, 7, 9, 12, 3, 4]]"
   ]
  },
  {
   "cell_type": "code",
   "execution_count": 35,
   "metadata": {},
   "outputs": [],
   "source": [
    "#Step 1: Create an empty list b which is the flat list version of list a\n",
    "#Step 2: Move all items in list a to b\n",
    "\n",
    "b = []\n",
    "\n",
    "for sublist in a:\n",
    "    for item in sublist:\n",
    "        b.append(item)"
   ]
  },
  {
   "cell_type": "code",
   "execution_count": 36,
   "metadata": {},
   "outputs": [
    {
     "data": {
      "text/plain": [
       "[1, 5, 7, 9, 12, 3, 4]"
      ]
     },
     "execution_count": 36,
     "metadata": {},
     "output_type": "execute_result"
    }
   ],
   "source": [
    "#Check the result of b:\n",
    "b"
   ]
  },
  {
   "cell_type": "code",
   "execution_count": 37,
   "metadata": {},
   "outputs": [
    {
     "data": {
      "text/plain": [
       "9"
      ]
     },
     "execution_count": 37,
     "metadata": {},
     "output_type": "execute_result"
    }
   ],
   "source": [
    "#sort the list b:\n",
    "sorted(b)[-2]"
   ]
  },
  {
   "cell_type": "markdown",
   "metadata": {},
   "source": [
    "Alternatively, you can choose the list comprehension which is more convenient:"
   ]
  },
  {
   "cell_type": "code",
   "execution_count": 38,
   "metadata": {},
   "outputs": [
    {
     "data": {
      "text/plain": [
       "[1, 5, 7, 9, 12, 3, 4]"
      ]
     },
     "execution_count": 38,
     "metadata": {},
     "output_type": "execute_result"
    }
   ],
   "source": [
    "a = [[1, 5, 7, 9, 12, 3, 4]]\n",
    "b = [item for sublist in a for item in sublist]\n",
    "b"
   ]
  },
  {
   "cell_type": "markdown",
   "metadata": {},
   "source": [
    "The list comprehension: extract the item for item in sublist which is in a."
   ]
  },
  {
   "cell_type": "markdown",
   "metadata": {},
   "source": [
    "## If there is more than 1 sublist in nested list a"
   ]
  },
  {
   "cell_type": "code",
   "execution_count": 39,
   "metadata": {},
   "outputs": [],
   "source": [
    "a = [1, 2, [3, 5, 6], 2, 4, 89, 23, [[3, 5, 6, 2, 1, 99, 111]]]"
   ]
  },
  {
   "cell_type": "code",
   "execution_count": 40,
   "metadata": {},
   "outputs": [],
   "source": [
    "#We use recursion because the levels of nesting cannot be predetermined.\n",
    "#Python code to flat a nested list with multiple levels of nesting allowed.\n",
    "\n",
    "b = []\n",
    "\n",
    "#Function used for removing nested lists in python.\n",
    "\n",
    "def remove_nest(l): \n",
    "    for i in l: \n",
    "        if type(i) == list: \n",
    "            remove_nest(i) \n",
    "        else: \n",
    "            b.append(i) "
   ]
  },
  {
   "cell_type": "markdown",
   "metadata": {},
   "source": [
    "Code explaination: define a recursive function - remove_nest, if the item in list is not a list (not nested, only a flat item), then we append it to our list immediately without extracting the item out from the list. If it's a nested list in list a, then we take it the list out and repeat the process until all items have been extracted. <br>\n",
    "https://www.geeksforgeeks.org/python-convert-a-nested-list-into-a-flat-list/ "
   ]
  },
  {
   "cell_type": "code",
   "execution_count": 41,
   "metadata": {},
   "outputs": [],
   "source": [
    "remove_nest(a)"
   ]
  },
  {
   "cell_type": "code",
   "execution_count": 42,
   "metadata": {},
   "outputs": [
    {
     "data": {
      "text/plain": [
       "[1, 2, 3, 5, 6, 2, 4, 89, 23, 3, 5, 6, 2, 1, 99, 111]"
      ]
     },
     "execution_count": 42,
     "metadata": {},
     "output_type": "execute_result"
    }
   ],
   "source": [
    "b"
   ]
  },
  {
   "cell_type": "code",
   "execution_count": 43,
   "metadata": {},
   "outputs": [
    {
     "data": {
      "text/plain": [
       "99"
      ]
     },
     "execution_count": 43,
     "metadata": {},
     "output_type": "execute_result"
    }
   ],
   "source": [
    "sorted(b)[-2]"
   ]
  }
 ],
 "metadata": {
  "kernelspec": {
   "display_name": "Python 3",
   "language": "python",
   "name": "python3"
  },
  "language_info": {
   "codemirror_mode": {
    "name": "ipython",
    "version": 3
   },
   "file_extension": ".py",
   "mimetype": "text/x-python",
   "name": "python",
   "nbconvert_exporter": "python",
   "pygments_lexer": "ipython3",
   "version": "3.7.1"
  }
 },
 "nbformat": 4,
 "nbformat_minor": 2
}
